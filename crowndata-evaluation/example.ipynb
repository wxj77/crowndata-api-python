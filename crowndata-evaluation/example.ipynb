{
 "cells": [
  {
   "cell_type": "code",
   "execution_count": 1,
   "metadata": {},
   "outputs": [],
   "source": [
    "import numpy as np\n",
    "import pandas as pd\n",
    "import json\n",
    "import h5py\n",
    "import subprocess\n",
    "import os"
   ]
  },
  {
   "cell_type": "code",
   "execution_count": 2,
   "metadata": {},
   "outputs": [],
   "source": [
    "# Set an environment variable\n",
    "os.environ[\"DATA_DIR\"] = \"../../botmatrix/demo/public/\"\n",
    "\n",
    "from crowndata_evaluation.services.kinematics.urdf import (\n",
    "    get_robot_from_urdf,\n",
    "    forward_kinematics,\n",
    "    forward_kinematics,\n",
    "    find_joint,\n",
    ")\n",
    "from crowndata_evaluation.services.kinematics.resources import (\n",
    "    get_urdf_map,\n",
    "    get_urdf_dict,\n",
    "    get_urdf_file_path,\n",
    "    h5_to_dict,\n",
    ")\n",
    "from crowndata_evaluation.services.utils import (\n",
    "    fetch_joint_json,\n",
    ")\n",
    "\n",
    "urdf = \"droid\"\n",
    "urdf = \"rm_65_gazebo_dual_gripper\"\n",
    "\n",
    "# Load the URDF model\n",
    "urdf_file_path = get_urdf_file_path(urdf=urdf)\n",
    "robot = get_robot_from_urdf(urdf_file_path)\n",
    "\n",
    "movable_joints = get_urdf_dict(urdf=urdf).get(\"movable_joints\", [])\n",
    "\n",
    "joint_names = get_urdf_dict(urdf=urdf).get(\"joint_names\", [])"
   ]
  },
  {
   "cell_type": "code",
   "execution_count": 3,
   "metadata": {},
   "outputs": [
    {
     "data": {
      "text/plain": [
       "['joint8', 'joint8_2']"
      ]
     },
     "execution_count": 3,
     "metadata": {},
     "output_type": "execute_result"
    }
   ],
   "source": [
    "joint_names"
   ]
  },
  {
   "cell_type": "code",
   "execution_count": 4,
   "metadata": {},
   "outputs": [],
   "source": [
    "source_path = \"../../rm_65_gazebo_dual_gripper/rm_001/episode_4.hdf5\"\n",
    "target_dir = \"../../rm_65_gazebo_dual_gripper/rm_001\"\n",
    "\n",
    "source_path = \"../../rm_65_gazebo_dual_gripper/rm65_abc_20241031_010921/rm65_abc_20241031_010921.h5\"\n",
    "target_dir = \"../../rm_65_gazebo_dual_gripper/rm65_abc_20241031_010921\""
   ]
  },
  {
   "cell_type": "code",
   "execution_count": 5,
   "metadata": {},
   "outputs": [],
   "source": [
    "meta_file_path = \"../../rm_65_gazebo_dual_gripper/rm_001/meta.json\"\n",
    "meta_file_path = \"../../rm_65_gazebo_dual_gripper/rm65_abc_20241031_010921/meta.json\"\n",
    "\n",
    "\n",
    "with open(meta_file_path, \"r\") as file:\n",
    "    meta = json.load(file)\n",
    "\n",
    "dt = meta[\"DT\"]\n",
    "robot_embodiment = meta[\"device\"][\"type\"]\n",
    "cameras = meta[\"device\"][\"camera_names\"]"
   ]
  },
  {
   "cell_type": "code",
   "execution_count": 7,
   "metadata": {},
   "outputs": [],
   "source": [
    "#### process trajectory ####\n",
    "\n",
    "trajectory_data = {}\n",
    "with h5py.File(source_path, \"r\") as file:\n",
    "    for key in file.keys():\n",
    "        if isinstance(file[key], h5py.Dataset):\n",
    "            trajectory_data[key] = file[key][:]\n",
    "        elif isinstance(file[key], h5py.Group):\n",
    "            trajectory_data[key] = h5_to_dict(file[key])\n",
    "\n",
    "subprocess.call([\"mkdir\", \"-p\", f\"{target_dir}\"])\n",
    "subprocess.call([\"mkdir\", \"-p\", f\"{target_dir}/trajectories\"])\n",
    "# joint position\n",
    "joint_positions = trajectory_data[\"action\"]\n",
    "# convert to radian\n",
    "joint_positions[:, :6] = np.radians(joint_positions[:, :6])\n",
    "joint_positions[:, 7:13] = np.radians(joint_positions[:, :6])\n",
    "# convert to meter\n",
    "joint_positions[:, 6] = joint_positions[:, 6] / 1000.0 * 60\n",
    "joint_positions[:, 13] = joint_positions[:, 13] / 1000.0 * 60\n",
    "\n",
    "columns = [f\"joint{i}\" for i in range(1, len(trajectory_data[\"action\"][0]) + 1)]\n",
    "if len(trajectory_data[\"action\"][0]) == len(movable_joints):\n",
    "    columns = movable_joints\n",
    "\n",
    "df = pd.DataFrame(\n",
    "    joint_positions,\n",
    "    columns=columns,\n",
    ")\n",
    "df.to_json(\n",
    "    f\"{target_dir}/trajectories/joint_positions.json\",\n",
    "    orient=\"split\",\n",
    "    index=False,\n",
    "    double_precision=3,\n",
    ")\n",
    "\n",
    "joint_records = df.to_dict(orient=\"records\")\n",
    "trajectories = {}\n",
    "for joint_name in joint_names:\n",
    "    link_name = find_joint(robot, joint_name).child\n",
    "    trajectories[joint_name] = forward_kinematics(\n",
    "        robot=robot, joint_records=joint_records, link_name=link_name\n",
    "    )\n",
    "    df = pd.DataFrame(\n",
    "        trajectories[joint_name], columns=[\"x\", \"y\", \"z\", \"roll\", \"pitch\", \"yaw\"]\n",
    "    )\n",
    "    df.to_json(\n",
    "        f\"{target_dir}/trajectories/{joint_name}__trajectory.json\",\n",
    "        orient=\"split\",\n",
    "        index=False,\n",
    "        double_precision=3,\n",
    "    )"
   ]
  },
  {
   "cell_type": "code",
   "execution_count": 27,
   "metadata": {},
   "outputs": [],
   "source": [
    "\n",
    "    \n"
   ]
  },
  {
   "cell_type": "code",
   "execution_count": 44,
   "metadata": {},
   "outputs": [],
   "source": []
  },
  {
   "cell_type": "code",
   "execution_count": null,
   "metadata": {},
   "outputs": [],
   "source": []
  }
 ],
 "metadata": {
  "kernelspec": {
   "display_name": "Python 3",
   "language": "python",
   "name": "python3"
  },
  "language_info": {
   "codemirror_mode": {
    "name": "ipython",
    "version": 3
   },
   "file_extension": ".py",
   "mimetype": "text/x-python",
   "name": "python",
   "nbconvert_exporter": "python",
   "pygments_lexer": "ipython3",
   "version": "3.11.9"
  }
 },
 "nbformat": 4,
 "nbformat_minor": 2
}
